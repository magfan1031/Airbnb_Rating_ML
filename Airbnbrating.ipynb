{
 "cells": [
  {
   "cell_type": "code",
   "execution_count": 1,
   "metadata": {
    "id": "7fc00c5c",
    "outputId": "fc25da18-9dbd-4470-bd4a-cc723bdd9fad"
   },
   "outputs": [],
   "source": [
    "import os\n",
    "\n",
    "os.getcwd()"
   ]
  },
  {
   "cell_type": "code",
   "execution_count": 2,
   "metadata": {
    "id": "6fc9830e"
   },
   "outputs": [],
   "source": [
    "# import packages (data)\n",
    "\n",
    "import pandas as pd\n",
    "import numpy as np\n",
    "import matplotlib\n",
    "import matplotlib.pyplot as plt\n",
    "import sklearn\n",
    "import statsmodels.api as sm\n",
    "from statsmodels.formula.api import logit, ols, glm\n",
    "import matplotlib.cm as cm\n",
    "from scipy.ndimage.filters import gaussian_filter"
   ]
  },
  {
   "cell_type": "code",
   "execution_count": 3,
   "metadata": {
    "id": "ca9c59a3",
    "outputId": "8e62d9c5-450b-42d6-a767-3280488f31b7"
   },
   "outputs": [
    {
     "data": {
      "text/plain": [
       "(36923, 74)"
      ]
     },
     "execution_count": 3,
     "metadata": {},
     "output_type": "execute_result"
    }
   ],
   "source": [
    "## New York data (September 08 / 2021 )\n",
    "df = pd.read_csv(\"listings_NY.csv\")\n",
    "df.shape"
   ]
  },
  {
   "cell_type": "code",
   "execution_count": 4,
   "metadata": {
    "id": "4d628663"
   },
   "outputs": [],
   "source": [
    "# To get all the column names\n",
    "\n",
    "my_list = list(df)\n",
    "# my_list"
   ]
  },
  {
   "cell_type": "code",
   "execution_count": 5,
   "metadata": {
    "id": "73cfd6ca"
   },
   "outputs": [],
   "source": [
    "variables = [\n",
    " 'review_scores_rating',\n",
    "    \n",
    " 'host_about',\n",
    " 'host_response_time',\n",
    " 'host_response_rate',\n",
    " 'host_acceptance_rate',\n",
    " 'host_is_superhost',\n",
    " 'calculated_host_listings_count',\n",
    " 'host_has_profile_pic',\n",
    " 'host_identity_verified',\n",
    " 'review_scores_accuracy',   \n",
    " 'review_scores_cleanliness',\n",
    " 'review_scores_checkin',\n",
    " 'review_scores_communication',\n",
    " 'instant_bookable',\n",
    "]\n",
    "\n",
    "# host_since : must convert to categorical but it's really hard (cuz date is continuous)\n",
    "# amenities -> association..?"
   ]
  },
  {
   "cell_type": "code",
   "execution_count": 6,
   "metadata": {
    "id": "9ce26ddb",
    "outputId": "e0a2fd72-9699-427a-f09f-a982c5a4b895"
   },
   "outputs": [
    {
     "data": {
      "text/plain": [
       "(36923, 14)"
      ]
     },
     "execution_count": 6,
     "metadata": {},
     "output_type": "execute_result"
    }
   ],
   "source": [
    "# select columns\n",
    "df_select = df[variables]\n",
    "df_select.shape"
   ]
  },
  {
   "cell_type": "code",
   "execution_count": 7,
   "metadata": {
    "id": "a84f16df",
    "outputId": "74958317-45c9-44e6-c898-0f78e9eb91c1"
   },
   "outputs": [
    {
     "name": "stderr",
     "output_type": "stream",
     "text": [
      "<ipython-input-7-3fccc81da416>:3: SettingWithCopyWarning: \n",
      "A value is trying to be set on a copy of a slice from a DataFrame\n",
      "\n",
      "See the caveats in the documentation: https://pandas.pydata.org/pandas-docs/stable/user_guide/indexing.html#returning-a-view-versus-a-copy\n",
      "  df_select.loc[:,\"host_about\"][~df_select.loc[:, \"host_about\"].isnull()] = \"t\" # not nan\n",
      "C:\\Anaconda3\\envs\\Py38\\lib\\site-packages\\pandas\\core\\generic.py:8870: SettingWithCopyWarning: \n",
      "A value is trying to be set on a copy of a slice from a DataFrame\n",
      "\n",
      "See the caveats in the documentation: https://pandas.pydata.org/pandas-docs/stable/user_guide/indexing.html#returning-a-view-versus-a-copy\n",
      "  return self._update_inplace(result)\n",
      "<ipython-input-7-3fccc81da416>:4: SettingWithCopyWarning: \n",
      "A value is trying to be set on a copy of a slice from a DataFrame\n",
      "\n",
      "See the caveats in the documentation: https://pandas.pydata.org/pandas-docs/stable/user_guide/indexing.html#returning-a-view-versus-a-copy\n",
      "  df_select.loc[:,\"host_about\"][df_select.loc[:, \"host_about\"].isnull()] = \"f\"   # nan\n"
     ]
    }
   ],
   "source": [
    "# host about\n",
    "\n",
    "df_select.loc[:,\"host_about\"][~df_select.loc[:, \"host_about\"].isnull()] = \"t\" # not nan\n",
    "df_select.loc[:,\"host_about\"][df_select.loc[:, \"host_about\"].isnull()] = \"f\"   # nan"
   ]
  },
  {
   "cell_type": "code",
   "execution_count": 8,
   "metadata": {
    "id": "4cb54aa7"
   },
   "outputs": [],
   "source": [
    "# host resposne time\n"
   ]
  },
  {
   "cell_type": "code",
   "execution_count": 9,
   "metadata": {
    "id": "20f1b935",
    "outputId": "c32287ab-9ca7-4b26-97f0-01a663273018"
   },
   "outputs": [
    {
     "name": "stderr",
     "output_type": "stream",
     "text": [
      "<ipython-input-9-42bc775c7c26>:3: SettingWithCopyWarning: \n",
      "A value is trying to be set on a copy of a slice from a DataFrame.\n",
      "Try using .loc[row_indexer,col_indexer] = value instead\n",
      "\n",
      "See the caveats in the documentation: https://pandas.pydata.org/pandas-docs/stable/user_guide/indexing.html#returning-a-view-versus-a-copy\n",
      "  df_select['host_response_rate'] = df_select['host_response_rate'].str.replace('%', '')\n",
      "<ipython-input-9-42bc775c7c26>:4: SettingWithCopyWarning: \n",
      "A value is trying to be set on a copy of a slice from a DataFrame.\n",
      "Try using .loc[row_indexer,col_indexer] = value instead\n",
      "\n",
      "See the caveats in the documentation: https://pandas.pydata.org/pandas-docs/stable/user_guide/indexing.html#returning-a-view-versus-a-copy\n",
      "  df_select['host_response_rate'] = df_select['host_response_rate'].astype(float)\n",
      "<ipython-input-9-42bc775c7c26>:5: SettingWithCopyWarning: \n",
      "A value is trying to be set on a copy of a slice from a DataFrame.\n",
      "Try using .loc[row_indexer,col_indexer] = value instead\n",
      "\n",
      "See the caveats in the documentation: https://pandas.pydata.org/pandas-docs/stable/user_guide/indexing.html#returning-a-view-versus-a-copy\n",
      "  df_select['host_response_rate'] = df_select['host_response_rate']/100\n"
     ]
    }
   ],
   "source": [
    "# convert host response rate to float\n",
    "\n",
    "df_select['host_response_rate'] = df_select['host_response_rate'].str.replace('%', '')\n",
    "df_select['host_response_rate'] = df_select['host_response_rate'].astype(float)\n",
    "df_select['host_response_rate'] = df_select['host_response_rate']/100"
   ]
  },
  {
   "cell_type": "code",
   "execution_count": 10,
   "metadata": {
    "id": "8b79911f",
    "outputId": "63228cfa-7a86-405d-c7f4-06ca3cd6185e"
   },
   "outputs": [
    {
     "name": "stderr",
     "output_type": "stream",
     "text": [
      "<ipython-input-10-0728e2f799eb>:3: SettingWithCopyWarning: \n",
      "A value is trying to be set on a copy of a slice from a DataFrame.\n",
      "Try using .loc[row_indexer,col_indexer] = value instead\n",
      "\n",
      "See the caveats in the documentation: https://pandas.pydata.org/pandas-docs/stable/user_guide/indexing.html#returning-a-view-versus-a-copy\n",
      "  df_select['host_acceptance_rate'] = df_select['host_acceptance_rate'].str.replace('%', '')\n",
      "<ipython-input-10-0728e2f799eb>:4: SettingWithCopyWarning: \n",
      "A value is trying to be set on a copy of a slice from a DataFrame.\n",
      "Try using .loc[row_indexer,col_indexer] = value instead\n",
      "\n",
      "See the caveats in the documentation: https://pandas.pydata.org/pandas-docs/stable/user_guide/indexing.html#returning-a-view-versus-a-copy\n",
      "  df_select['host_acceptance_rate'] = df_select['host_acceptance_rate'].astype(float)\n",
      "<ipython-input-10-0728e2f799eb>:5: SettingWithCopyWarning: \n",
      "A value is trying to be set on a copy of a slice from a DataFrame.\n",
      "Try using .loc[row_indexer,col_indexer] = value instead\n",
      "\n",
      "See the caveats in the documentation: https://pandas.pydata.org/pandas-docs/stable/user_guide/indexing.html#returning-a-view-versus-a-copy\n",
      "  df_select['host_acceptance_rate'] = df_select['host_acceptance_rate']/100\n"
     ]
    }
   ],
   "source": [
    "# convert host acceptance rate to float\n",
    "\n",
    "df_select['host_acceptance_rate'] = df_select['host_acceptance_rate'].str.replace('%', '')\n",
    "df_select['host_acceptance_rate'] = df_select['host_acceptance_rate'].astype(float)\n",
    "df_select['host_acceptance_rate'] = df_select['host_acceptance_rate']/100"
   ]
  },
  {
   "cell_type": "code",
   "execution_count": 11,
   "metadata": {
    "id": "0d37d8b1"
   },
   "outputs": [],
   "source": [
    "#count NaN Values\n",
    "#sum([True for idx, row in df_select.iterrows() if any(row.isnull())])\n",
    "\n",
    "# delete NaN Values\n",
    "df_clean = df_select.dropna()"
   ]
  },
  {
   "cell_type": "code",
   "execution_count": 12,
   "metadata": {
    "id": "1a48a22a",
    "outputId": "6061d029-9f72-48b6-e5f3-ed0ee60083e8"
   },
   "outputs": [
    {
     "data": {
      "text/plain": [
       "count    15431.000000\n",
       "mean         4.676151\n",
       "std          0.513956\n",
       "min          1.000000\n",
       "25%          4.600000\n",
       "50%          4.820000\n",
       "75%          5.000000\n",
       "max          5.000000\n",
       "Name: review_scores_rating, dtype: float64"
      ]
     },
     "execution_count": 12,
     "metadata": {},
     "output_type": "execute_result"
    }
   ],
   "source": [
    "df_clean[\"review_scores_rating\"].describe()"
   ]
  },
  {
   "cell_type": "code",
   "execution_count": 13,
   "metadata": {
    "id": "23fed085"
   },
   "outputs": [],
   "source": [
    "review_score = df_clean[\"review_scores_rating\"]"
   ]
  },
  {
   "cell_type": "code",
   "execution_count": 14,
   "metadata": {
    "id": "ed59a046",
    "outputId": "7d56e7e9-ad2a-4b56-a8df-2e1c5d0fc155"
   },
   "outputs": [
    {
     "name": "stderr",
     "output_type": "stream",
     "text": [
      "<ipython-input-14-69fcc7b135fa>:2: SettingWithCopyWarning: \n",
      "A value is trying to be set on a copy of a slice from a DataFrame.\n",
      "Try using .loc[row_indexer,col_indexer] = value instead\n",
      "\n",
      "See the caveats in the documentation: https://pandas.pydata.org/pandas-docs/stable/user_guide/indexing.html#returning-a-view-versus-a-copy\n",
      "  df_clean[\"review_scores_rating\"] = pd.cut(df_clean.review_scores_rating, bins=[0,df_clean[\"review_scores_rating\"].mean(),5],labels=['low','high'])\n"
     ]
    }
   ],
   "source": [
    "# use mean percentile(4.676151) to split review scores\n",
    "df_clean[\"review_scores_rating\"] = pd.cut(df_clean.review_scores_rating, bins=[0,df_clean[\"review_scores_rating\"].mean(),5],labels=['low','high'])"
   ]
  },
  {
   "cell_type": "code",
   "execution_count": 15,
   "metadata": {
    "id": "1c3be36b"
   },
   "outputs": [],
   "source": [
    "df_new = df_clean[[\"review_scores_rating\", \"host_about\", \"host_response_time\",\n",
    "                   \"host_response_rate\", \"host_acceptance_rate\",\n",
    "                   \"host_is_superhost\", \"calculated_host_listings_count\",\n",
    "                   \"host_has_profile_pic\",\"host_identity_verified\",\n",
    "                   'review_scores_accuracy', 'review_scores_cleanliness',\n",
    "                   'review_scores_checkin','review_scores_communication',\n",
    "                   \"instant_bookable\"]]"
   ]
  },
  {
   "cell_type": "markdown",
   "metadata": {
    "id": "Yui9s4GA_RYT"
   },
   "source": [
    "# Exploratory Visualizations"
   ]
  },
  {
   "cell_type": "code",
   "execution_count": 16,
   "metadata": {
    "id": "EoSrSZpN_gda"
   },
   "outputs": [
    {
     "data": {
      "image/png": "[encoded data removed]",
      "text/plain": [
       "<Figure size 288x144 with 1 Axes>"
      ]
     },
     "metadata": {
      "needs_background": "light"
     },
     "output_type": "display_data"
    }
   ],
   "source": [
    "#host acceptance rate\n",
    "plt.figure(figsize=(4,2))\n",
    "df_new.host_acceptance_rate.hist(color='teal')\n",
    "plt.ylabel('count')\n",
    "plt.xlabel('host_acceptance_rate')\n",
    "plt.show()"
   ]
  },
  {
   "cell_type": "code",
   "execution_count": 17,
   "metadata": {
    "id": "bxW7tHKH_jSB"
   },
   "outputs": [
    {
     "data": {
      "image/png": "[encoded data removed]",
      "text/plain": [
       "<Figure size 288x144 with 1 Axes>"
      ]
     },
     "metadata": {
      "needs_background": "light"
     },
     "output_type": "display_data"
    }
   ],
   "source": [
    "#host listings count\n",
    "plt.figure(figsize=(4,2))\n",
    "df_new.calculated_host_listings_count.hist(color='teal')\n",
    "plt.ylabel('count')\n",
    "plt.xlabel('calculated_host_listings_count')\n",
    "plt.show()"
   ]
  },
  {
   "cell_type": "code",
   "execution_count": 18,
   "metadata": {
    "id": "EbEf5u1C_m04"
   },
   "outputs": [
    {
     "data": {
      "image/png": "[encoded data removed]",
      "text/plain": [
       "<Figure size 288x144 with 1 Axes>"
      ]
     },
     "metadata": {
      "needs_background": "light"
     },
     "output_type": "display_data"
    }
   ],
   "source": [
    "#host response rate\n",
    "plt.figure(figsize=(4,2))\n",
    "df_new.host_response_rate.hist(color='teal')\n",
    "plt.ylabel('count')\n",
    "plt.xlabel('host_response_rate')\n",
    "plt.show()"
   ]
  },
  {
   "cell_type": "code",
   "execution_count": 19,
   "metadata": {
    "id": "zD_mLGe2_o8C"
   },
   "outputs": [
    {
     "data": {
      "image/png": "[encoded data removed]",
      "text/plain": [
       "<Figure size 288x144 with 1 Axes>"
      ]
     },
     "metadata": {
      "needs_background": "light"
     },
     "output_type": "display_data"
    }
   ],
   "source": [
    "#review scores accuracy\n",
    "plt.figure(figsize=(4,2))\n",
    "df_new.review_scores_accuracy.hist(color='cornflowerblue')\n",
    "plt.ylabel('count')\n",
    "plt.xlabel('review_scores_accuracy')\n",
    "plt.show()"
   ]
  },
  {
   "cell_type": "code",
   "execution_count": 20,
   "metadata": {
    "id": "3TP5TXNC_zzR"
   },
   "outputs": [
    {
     "data": {
      "image/png": "[encoded data removed]",
      "text/plain": [
       "<Figure size 288x144 with 1 Axes>"
      ]
     },
     "metadata": {
      "needs_background": "light"
     },
     "output_type": "display_data"
    }
   ],
   "source": [
    "#review scores cleanliness\n",
    "plt.figure(figsize=(4,2))\n",
    "df_new.review_scores_cleanliness.hist(color='cornflowerblue')\n",
    "plt.ylabel('count')\n",
    "plt.xlabel('review_scores_cleanliness')\n",
    "plt.show()"
   ]
  },
  {
   "cell_type": "code",
   "execution_count": 21,
   "metadata": {
    "id": "KjDyoRtp_3II"
   },
   "outputs": [
    {
     "data": {
      "image/png": "[encoded data removed]",
      "text/plain": [
       "<Figure size 288x144 with 1 Axes>"
      ]
     },
     "metadata": {
      "needs_background": "light"
     },
     "output_type": "display_data"
    }
   ],
   "source": [
    "#review scores checkin\n",
    "plt.figure(figsize=(4,2))\n",
    "df_new.review_scores_checkin.hist(color='cornflowerblue')\n",
    "plt.ylabel('count')\n",
    "plt.xlabel('review_scores_checkin')\n",
    "plt.show()"
   ]
  },
  {
   "cell_type": "code",
   "execution_count": 22,
   "metadata": {
    "id": "7exXSeUb_5SF"
   },
   "outputs": [
    {
     "data": {
      "image/png": "[encoded data removed]",
      "text/plain": [
       "<Figure size 288x144 with 1 Axes>"
      ]
     },
     "metadata": {
      "needs_background": "light"
     },
     "output_type": "display_data"
    }
   ],
   "source": [
    "#review scores communication\n",
    "plt.figure(figsize=(4,2))\n",
    "df_new.review_scores_communication.hist(color='cornflowerblue')\n",
    "plt.ylabel('count')\n",
    "plt.xlabel('review_scores_communication')\n",
    "plt.show()"
   ]
  },
  {
   "cell_type": "code",
   "execution_count": 23,
   "metadata": {
    "id": "LDR769Ze_7q4"
   },
   "outputs": [
    {
     "data": {
      "image/png": "[encoded data removed]",
      "text/plain": [
       "<Figure size 288x144 with 1 Axes>"
      ]
     },
     "metadata": {
      "needs_background": "light"
     },
     "output_type": "display_data"
    }
   ],
   "source": [
    "#superhost\n",
    "plt.figure(figsize=(4,2))\n",
    "df_new.host_is_superhost.hist(color='teal')\n",
    "plt.ylabel('count')\n",
    "plt.xlabel('host_is_superhost')\n",
    "plt.show()"
   ]
  },
  {
   "cell_type": "code",
   "execution_count": 24,
   "metadata": {
    "id": "Hudkf0y9_9iU"
   },
   "outputs": [
    {
     "data": {
      "image/png": "[encoded data removed]",
      "text/plain": [
       "<Figure size 288x144 with 1 Axes>"
      ]
     },
     "metadata": {
      "needs_background": "light"
     },
     "output_type": "display_data"
    }
   ],
   "source": [
    "#host about\n",
    "plt.figure(figsize=(4,2))\n",
    "df_new.host_about.hist(color='teal')\n",
    "plt.ylabel('count')\n",
    "plt.xlabel('host_about')\n",
    "plt.show()"
   ]
  },
  {
   "cell_type": "code",
   "execution_count": 25,
   "metadata": {
    "id": "84e36159"
   },
   "outputs": [],
   "source": [
    "df_new.to_csv('Final_ML.csv', index = False)"
   ]
  },
  {
   "cell_type": "code",
   "execution_count": 26,
   "metadata": {
    "id": "e836b736"
   },
   "outputs": [],
   "source": [
    "# logistic regression"
   ]
  },
  {
   "cell_type": "code",
   "execution_count": 27,
   "metadata": {
    "id": "67f26716",
    "outputId": "e17a0135-1243-4ed9-e912-b78d23efc515"
   },
   "outputs": [
    {
     "data": {
      "text/plain": [
       "review_scores_rating\n",
       "1.0    10475\n",
       "0.0     4956\n",
       "dtype: int64"
      ]
     },
     "execution_count": 27,
     "metadata": {},
     "output_type": "execute_result"
    }
   ],
   "source": [
    "# convert review_scores_rating to 0, 1\n",
    "\n",
    "df_new['review_scores_rating'] = df_new['review_scores_rating'].replace(('high','low'),(\"1\",\"0\"))\n",
    "df_new['review_scores_rating'] = df_new['review_scores_rating'].astype(float)\n",
    "df_new.value_counts(\"review_scores_rating\")"
   ]
  },
  {
   "cell_type": "code",
   "execution_count": 28,
   "metadata": {
    "id": "110bbe59"
   },
   "outputs": [],
   "source": [
    "# split dataset to training and test (randomly)\n",
    "\n",
    "# Creating a dataframe with 80% values of original dataframe\n",
    "#part_80 = df_new.sample(frac = 0.8)\n",
    " \n",
    "# Creating dataframe with rest of the 20% values\n",
    "#rest_part_20 = df_new.drop(part_80.index)"
   ]
  },
  {
   "cell_type": "code",
   "execution_count": 29,
   "metadata": {
    "id": "14e412ae"
   },
   "outputs": [],
   "source": [
    "# split dataset to training and test (ordinal)\n",
    "part_70 = df_new.iloc[:int(len(df_new)*(70/100))]\n",
    "rest_part_30 = df_new.drop(part_70.index)"
   ]
  },
  {
   "cell_type": "code",
   "execution_count": 30,
   "metadata": {
    "id": "b0bdd048",
    "outputId": "ef7d07b3-3527-40be-c191-658495832d93"
   },
   "outputs": [
    {
     "name": "stdout",
     "output_type": "stream",
     "text": [
      "Optimization terminated successfully.\n",
      "         Current function value: 0.303957\n",
      "         Iterations 8\n",
      "                            Logit Regression Results                            \n",
      "================================================================================\n",
      "Dep. Variable:     review_scores_rating   No. Observations:                10801\n",
      "Model:                            Logit   Df Residuals:                    10791\n",
      "Method:                             MLE   Df Model:                            9\n",
      "Date:                  Fri, 22 Jul 2022   Pseudo R-squ.:                  0.5118\n",
      "Time:                          16:09:43   Log-Likelihood:                -3283.0\n",
      "converged:                         True   LL-Null:                       -6724.6\n",
      "Covariance Type:              nonrobust   LLR p-value:                     0.000\n",
      "==================================================================================================\n",
      "                                     coef    std err          z      P>|z|      [0.025      0.975]\n",
      "--------------------------------------------------------------------------------------------------\n",
      "Intercept                        -66.6386      1.537    -43.360      0.000     -69.651     -63.626\n",
      "host_about[T.t]                    0.0754      0.070      1.083      0.279      -0.061       0.212\n",
      "host_is_superhost[T.t]             0.9933      0.078     12.795      0.000       0.841       1.145\n",
      "host_response_rate                -0.0222      0.155     -0.144      0.886      -0.326       0.281\n",
      "host_acceptance_rate              -0.4172      0.124     -3.374      0.001      -0.660      -0.175\n",
      "calculated_host_listings_count     0.0008      0.001      0.763      0.445      -0.001       0.003\n",
      "review_scores_accuracy             5.1409      0.206     24.964      0.000       4.737       5.545\n",
      "review_scores_cleanliness          3.5071      0.131     26.753      0.000       3.250       3.764\n",
      "review_scores_checkin              2.0470      0.224      9.151      0.000       1.609       2.485\n",
      "review_scores_communication        3.4145      0.213     16.028      0.000       2.997       3.832\n",
      "==================================================================================================\n"
     ]
    }
   ],
   "source": [
    "# run logistic regression (training set)\n",
    "\n",
    "model = logit(\"review_scores_rating ~ \\\n",
    " host_about +\\\n",
    " host_response_rate +\\\n",
    " host_acceptance_rate +\\\n",
    " host_is_superhost +\\\n",
    " calculated_host_listings_count+\\\n",
    " review_scores_accuracy+\\\n",
    " review_scores_cleanliness+\\\n",
    " review_scores_checkin +\\\n",
    " review_scores_communication\", part_70).fit()\n",
    "\n",
    "print(model.summary())"
   ]
  },
  {
   "cell_type": "code",
   "execution_count": 31,
   "metadata": {
    "id": "00150848"
   },
   "outputs": [],
   "source": [
    "# statistically significant variables\n",
    "\n",
    "# host_is_superhost[T.t] \n",
    "# host_acceptance_rate\n",
    "# review_scores_accuracy\n",
    "# review_scores_cleanliness\n",
    "# review_scores_checkin\n",
    "# review_scores_communication"
   ]
  },
  {
   "cell_type": "code",
   "execution_count": 32,
   "metadata": {
    "id": "8f586ce5",
    "outputId": "823671cb-285c-4588-866f-750fdb6a3c1e"
   },
   "outputs": [
    {
     "name": "stdout",
     "output_type": "stream",
     "text": [
      "Optimization terminated successfully.\n",
      "         Current function value: 0.304038\n",
      "         Iterations 8\n",
      "                            Logit Regression Results                            \n",
      "================================================================================\n",
      "Dep. Variable:     review_scores_rating   No. Observations:                10801\n",
      "Model:                            Logit   Df Residuals:                    10794\n",
      "Method:                             MLE   Df Model:                            6\n",
      "Date:                  Fri, 22 Jul 2022   Pseudo R-squ.:                  0.5117\n",
      "Time:                          16:09:43   Log-Likelihood:                -3283.9\n",
      "converged:                         True   LL-Null:                       -6724.6\n",
      "Covariance Type:              nonrobust   LLR p-value:                     0.000\n",
      "===============================================================================================\n",
      "                                  coef    std err          z      P>|z|      [0.025      0.975]\n",
      "-----------------------------------------------------------------------------------------------\n",
      "Intercept                     -66.6105      1.536    -43.360      0.000     -69.621     -63.600\n",
      "host_is_superhost[T.t]          0.9895      0.076     12.949      0.000       0.840       1.139\n",
      "host_acceptance_rate           -0.4234      0.108     -3.907      0.000      -0.636      -0.211\n",
      "review_scores_accuracy          5.1500      0.205     25.073      0.000       4.747       5.553\n",
      "review_scores_cleanliness       3.4971      0.131     26.750      0.000       3.241       3.753\n",
      "review_scores_checkin           2.0516      0.224      9.168      0.000       1.613       2.490\n",
      "review_scores_communication     3.4143      0.211     16.192      0.000       3.001       3.828\n",
      "===============================================================================================\n"
     ]
    }
   ],
   "source": [
    "# run logistic regression (only statistically significant variables)\n",
    "\n",
    "model = logit(\"review_scores_rating ~ \\\n",
    " host_acceptance_rate +\\\n",
    " host_is_superhost +\\\n",
    " review_scores_accuracy+\\\n",
    " review_scores_cleanliness+\\\n",
    " review_scores_checkin +\\\n",
    " review_scores_communication\", part_70).fit()\n",
    "\n",
    "print(model.summary())"
   ]
  },
  {
   "cell_type": "code",
   "execution_count": 33,
   "metadata": {
    "id": "777175bb",
    "outputId": "0b3aa2f2-be0f-402b-9e05-11a51ba18b11"
   },
   "outputs": [
    {
     "name": "stdout",
     "output_type": "stream",
     "text": [
      "Optimization terminated successfully.\n",
      "         Current function value: 0.317383\n",
      "         Iterations 8\n",
      "                            Logit Regression Results                            \n",
      "================================================================================\n",
      "Dep. Variable:     review_scores_rating   No. Observations:                 4630\n",
      "Model:                            Logit   Df Residuals:                     4623\n",
      "Method:                             MLE   Df Model:                            6\n",
      "Date:                  Fri, 22 Jul 2022   Pseudo R-squ.:                  0.5033\n",
      "Time:                          16:09:43   Log-Likelihood:                -1469.5\n",
      "converged:                         True   LL-Null:                       -2958.5\n",
      "Covariance Type:              nonrobust   LLR p-value:                     0.000\n",
      "===============================================================================================\n",
      "                                  coef    std err          z      P>|z|      [0.025      0.975]\n",
      "-----------------------------------------------------------------------------------------------\n",
      "Intercept                     -37.4282      1.382    -27.079      0.000     -40.137     -34.719\n",
      "host_is_superhost[T.t]          0.8824      0.126      6.977      0.000       0.634       1.130\n",
      "host_acceptance_rate           -2.1340      0.297     -7.188      0.000      -2.716      -1.552\n",
      "review_scores_accuracy          2.8382      0.182     15.560      0.000       2.481       3.196\n",
      "review_scores_cleanliness       2.4440      0.143     17.143      0.000       2.165       2.723\n",
      "review_scores_checkin           1.1014      0.205      5.367      0.000       0.699       1.504\n",
      "review_scores_communication     2.0192      0.196     10.315      0.000       1.636       2.403\n",
      "===============================================================================================\n"
     ]
    }
   ],
   "source": [
    "# apply to test set\n",
    "\n",
    "model = logit(\"review_scores_rating ~ \\\n",
    " host_is_superhost +\\\n",
    " host_acceptance_rate +\\\n",
    " review_scores_accuracy+\\\n",
    " review_scores_cleanliness+\\\n",
    " review_scores_checkin+\\\n",
    " review_scores_communication\", rest_part_30).fit()\n",
    "\n",
    "print(model.summary())\n",
    "\n",
    "# result look good"
   ]
  },
  {
   "cell_type": "code",
   "execution_count": 34,
   "metadata": {
    "id": "d0d94839"
   },
   "outputs": [],
   "source": [
    "# pre-processing (gini impurity)"
   ]
  },
  {
   "cell_type": "code",
   "execution_count": 35,
   "metadata": {
    "id": "845543dd",
    "outputId": "56a947fd-db52-4073-9fcb-290e4fa8098e"
   },
   "outputs": [
    {
     "name": "stderr",
     "output_type": "stream",
     "text": [
      "<ipython-input-35-306c39864f91>:3: SettingWithCopyWarning: \n",
      "A value is trying to be set on a copy of a slice from a DataFrame.\n",
      "Try using .loc[row_indexer,col_indexer] = value instead\n",
      "\n",
      "See the caveats in the documentation: https://pandas.pydata.org/pandas-docs/stable/user_guide/indexing.html#returning-a-view-versus-a-copy\n",
      "  df_clean[\"review_scores_rating\"] = review_score\n"
     ]
    }
   ],
   "source": [
    "# convert review scores rating to float again\n",
    "\n",
    "df_clean[\"review_scores_rating\"] = review_score"
   ]
  },
  {
   "cell_type": "code",
   "execution_count": 36,
   "metadata": {
    "id": "1124fa9a",
    "outputId": "f029500d-8f50-4a8e-9704-b15d8c8c6695"
   },
   "outputs": [
    {
     "data": {
      "text/plain": [
       "15431"
      ]
     },
     "execution_count": 36,
     "metadata": {},
     "output_type": "execute_result"
    }
   ],
   "source": [
    "df_clean.host_response_rate.count()"
   ]
  },
  {
   "cell_type": "code",
   "execution_count": 37,
   "metadata": {
    "id": "6b1dc4ef",
    "outputId": "2b9d4006-7900-47ed-8a2c-f80232c81e52"
   },
   "outputs": [
    {
     "data": {
      "text/plain": [
       "0        4.70\n",
       "1        4.46\n",
       "3        5.00\n",
       "4        4.21\n",
       "6        4.70\n",
       "         ... \n",
       "36735    5.00\n",
       "36736    5.00\n",
       "36762    5.00\n",
       "36776    5.00\n",
       "36854    3.00\n",
       "Name: review_scores_rating, Length: 15431, dtype: float64"
      ]
     },
     "execution_count": 37,
     "metadata": {},
     "output_type": "execute_result"
    }
   ],
   "source": [
    "df_clean.review_scores_rating"
   ]
  },
  {
   "cell_type": "code",
   "execution_count": 38,
   "metadata": {
    "id": "8314ec62",
    "outputId": "2a17b141-f283-406c-989c-526d408ce815"
   },
   "outputs": [
    {
     "name": "stderr",
     "output_type": "stream",
     "text": [
      "<ipython-input-38-29499bc6191d>:3: SettingWithCopyWarning: \n",
      "A value is trying to be set on a copy of a slice from a DataFrame.\n",
      "Try using .loc[row_indexer,col_indexer] = value instead\n",
      "\n",
      "See the caveats in the documentation: https://pandas.pydata.org/pandas-docs/stable/user_guide/indexing.html#returning-a-view-versus-a-copy\n",
      "  df_clean[\"host_response_rate\"] = pd.cut(df_clean.host_response_rate,\n",
      "<ipython-input-38-29499bc6191d>:7: SettingWithCopyWarning: \n",
      "A value is trying to be set on a copy of a slice from a DataFrame.\n",
      "Try using .loc[row_indexer,col_indexer] = value instead\n",
      "\n",
      "See the caveats in the documentation: https://pandas.pydata.org/pandas-docs/stable/user_guide/indexing.html#returning-a-view-versus-a-copy\n",
      "  df_clean[\"host_acceptance_rate\"] = pd.cut(df_clean.host_acceptance_rate,\n",
      "<ipython-input-38-29499bc6191d>:11: SettingWithCopyWarning: \n",
      "A value is trying to be set on a copy of a slice from a DataFrame.\n",
      "Try using .loc[row_indexer,col_indexer] = value instead\n",
      "\n",
      "See the caveats in the documentation: https://pandas.pydata.org/pandas-docs/stable/user_guide/indexing.html#returning-a-view-versus-a-copy\n",
      "  df_clean[\"calculated_host_listings_count\"] = pd.cut(df_clean.calculated_host_listings_count,\n",
      "<ipython-input-38-29499bc6191d>:15: SettingWithCopyWarning: \n",
      "A value is trying to be set on a copy of a slice from a DataFrame.\n",
      "Try using .loc[row_indexer,col_indexer] = value instead\n",
      "\n",
      "See the caveats in the documentation: https://pandas.pydata.org/pandas-docs/stable/user_guide/indexing.html#returning-a-view-versus-a-copy\n",
      "  df_clean[\"review_scores_accuracy\"] = pd.cut(df_clean.review_scores_accuracy,\n",
      "<ipython-input-38-29499bc6191d>:19: SettingWithCopyWarning: \n",
      "A value is trying to be set on a copy of a slice from a DataFrame.\n",
      "Try using .loc[row_indexer,col_indexer] = value instead\n",
      "\n",
      "See the caveats in the documentation: https://pandas.pydata.org/pandas-docs/stable/user_guide/indexing.html#returning-a-view-versus-a-copy\n",
      "  df_clean[\"review_scores_cleanliness\"] = pd.cut(df_clean.review_scores_cleanliness,\n",
      "<ipython-input-38-29499bc6191d>:23: SettingWithCopyWarning: \n",
      "A value is trying to be set on a copy of a slice from a DataFrame.\n",
      "Try using .loc[row_indexer,col_indexer] = value instead\n",
      "\n",
      "See the caveats in the documentation: https://pandas.pydata.org/pandas-docs/stable/user_guide/indexing.html#returning-a-view-versus-a-copy\n",
      "  df_clean[\"review_scores_checkin\"] = pd.cut(df_clean.review_scores_checkin,\n",
      "<ipython-input-38-29499bc6191d>:27: SettingWithCopyWarning: \n",
      "A value is trying to be set on a copy of a slice from a DataFrame.\n",
      "Try using .loc[row_indexer,col_indexer] = value instead\n",
      "\n",
      "See the caveats in the documentation: https://pandas.pydata.org/pandas-docs/stable/user_guide/indexing.html#returning-a-view-versus-a-copy\n",
      "  df_clean[\"review_scores_communication\"] = pd.cut(df_clean.review_scores_communication,\n"
     ]
    }
   ],
   "source": [
    "# set standard to calculate gini impurity index\n",
    "\n",
    "df_clean[\"host_response_rate\"] = pd.cut(df_clean.host_response_rate, \n",
    "                                        bins=[0,df_clean[\"host_response_rate\"].mean(),1],\n",
    "                                        labels=['low','high'],include_lowest=True)\n",
    "\n",
    "df_clean[\"host_acceptance_rate\"] = pd.cut(df_clean.host_acceptance_rate,\n",
    "                                          bins=[0,df_clean[\"host_acceptance_rate\"].mean(),1],\n",
    "                                          labels=['low','high'],include_lowest=True)\n",
    "\n",
    "df_clean[\"calculated_host_listings_count\"] = pd.cut(df_clean.calculated_host_listings_count,\n",
    "                                                    bins=[0,1,500],\n",
    "                                                    labels=['one','one more'])\n",
    "\n",
    "df_clean[\"review_scores_accuracy\"] = pd.cut(df_clean.review_scores_accuracy,\n",
    "                                            bins=[0,df_clean[\"review_scores_accuracy\"].mean(),5],\n",
    "                                            labels=['low','high'])\n",
    "\n",
    "df_clean[\"review_scores_cleanliness\"] = pd.cut(df_clean.review_scores_cleanliness, \n",
    "                                               bins=[0,df_clean[\"review_scores_cleanliness\"].mean(),5],\n",
    "                                               labels=['low','high'])\n",
    "\n",
    "df_clean[\"review_scores_checkin\"] = pd.cut(df_clean.review_scores_checkin, \n",
    "                                           bins=[0,df_clean[\"review_scores_checkin\"].mean(),5],\n",
    "                                           labels=['low','high'])\n",
    "\n",
    "df_clean[\"review_scores_communication\"] = pd.cut(df_clean.review_scores_communication, \n",
    "                                                 bins=[0,df_clean[\"review_scores_communication\"].mean(),5],\n",
    "                                                 labels=['low','high'])"
   ]
  },
  {
   "cell_type": "code",
   "execution_count": 39,
   "metadata": {
    "id": "15a3075f",
    "outputId": "1c2e37cf-e389-463a-8359-de8fead28a43"
   },
   "outputs": [
    {
     "data": {
      "text/plain": [
       "15431"
      ]
     },
     "execution_count": 39,
     "metadata": {},
     "output_type": "execute_result"
    }
   ],
   "source": [
    "df_clean.host_response_rate.count()"
   ]
  },
  {
   "cell_type": "code",
   "execution_count": 40,
   "metadata": {
    "id": "78a8dabf"
   },
   "outputs": [],
   "source": [
    "# host_about\n",
    "\n",
    "df_t = df_clean[df_clean.host_about == \"t\"].review_scores_rating\n",
    "p_t_t = df_t[df_t > df_clean[\"review_scores_rating\"].mean()].count()/df_t.count()\n",
    "p_t_f = 1-p_t_t\n",
    "gini_impurity_t = 1-((p_t_t**2)+(p_t_f**2))\n",
    "    \n",
    "df_f = df_clean[df_clean.host_about == \"f\"].review_scores_rating\n",
    "p_f_t = df_f[df_f > df_clean[\"review_scores_rating\"].mean()].count()/df_f.count()\n",
    "p_f_f = 1-p_f_t\n",
    "gini_impurity_f = 1-((p_f_t**2)+(p_f_f**2))\n",
    "    \n",
    "weighted_gini_impurity = gini_impurity_t * df_t.count()/df_clean.host_about.count()+ gini_impurity_f * df_f.count()/df_clean.host_about.count()\n",
    "host_about = weighted_gini_impurity"
   ]
  },
  {
   "cell_type": "code",
   "execution_count": 41,
   "metadata": {
    "id": "c3276ed0",
    "scrolled": true
   },
   "outputs": [],
   "source": [
    "# superhost\n",
    "df_t = df_clean[df_clean.host_is_superhost == \"t\"].review_scores_rating\n",
    "p_t_t = df_t[df_t > df_clean[\"review_scores_rating\"].mean()].count()/df_t.count()\n",
    "p_t_f = 1-p_t_t\n",
    "gini_impurity_t = 1-((p_t_t**2)+(p_t_f**2))\n",
    "    \n",
    "df_f = df_clean[df_clean.host_is_superhost == \"f\"].review_scores_rating\n",
    "p_f_t = df_f[df_f > df_clean[\"review_scores_rating\"].mean()].count()/df_f.count()\n",
    "p_f_f = 1-p_f_t\n",
    "gini_impurity_f = 1-((p_f_t**2)+(p_f_f**2))\n",
    "    \n",
    "weighted_gini_impurity = gini_impurity_t * df_t.count()/df_clean.host_is_superhost.count()+ gini_impurity_f * df_f.count()/df_clean.host_is_superhost.count()\n",
    "host_is_superhost = weighted_gini_impurity"
   ]
  },
  {
   "cell_type": "code",
   "execution_count": 42,
   "metadata": {
    "id": "38fe3f7c",
    "scrolled": true
   },
   "outputs": [],
   "source": [
    "# host has profile pic\n",
    "\n",
    "df_t = df_clean[df_clean.host_has_profile_pic == \"t\"].review_scores_rating\n",
    "p_t_t = df_t[df_t >df_clean[\"review_scores_rating\"].mean()].count()/df_t.count()\n",
    "p_t_f = 1-p_t_t\n",
    "gini_impurity_t = 1-((p_t_t**2)+(p_t_f**2))\n",
    "    \n",
    "df_f = df_clean[df_clean.host_has_profile_pic == \"f\"].review_scores_rating\n",
    "p_f_t = df_f[df_f > df_clean[\"review_scores_rating\"].mean()].count()/df_f.count()\n",
    "p_f_f = 1-p_f_t\n",
    "gini_impurity_f = 1-((p_f_t**2)+(p_f_f**2))\n",
    "    \n",
    "weighted_gini_impurity = gini_impurity_t * df_t.count()/df_clean.host_has_profile_pic.count() + gini_impurity_f * df_f.count()/df_clean.host_has_profile_pic.count()\n",
    "host_has_profile_pic = weighted_gini_impurity"
   ]
  },
  {
   "cell_type": "code",
   "execution_count": 43,
   "metadata": {
    "id": "f1420fb6",
    "scrolled": true
   },
   "outputs": [],
   "source": [
    "# host_identity_verified\n",
    "df_t = df_clean[df_clean.host_identity_verified == \"t\"].review_scores_rating\n",
    "p_t_t = df_t[df_t > df_clean[\"review_scores_rating\"].mean()].count()/df_t.count()\n",
    "p_t_f = 1-p_t_t\n",
    "gini_impurity_t = 1-((p_t_t**2)+(p_t_f**2))\n",
    "\n",
    "df_f = df_clean[df_clean.host_identity_verified == \"f\"].review_scores_rating\n",
    "p_f_t = df_f[df_f > df_clean[\"review_scores_rating\"].mean()].count()/df_f.count()\n",
    "p_f_f = 1-p_f_t\n",
    "gini_impurity_f = 1-((p_f_t**2)+(p_f_f**2))\n",
    "    \n",
    "weighted_gini_impurity = gini_impurity_t * df_t.count()/df_clean.host_identity_verified.count() + gini_impurity_f * df_f.count()/df_clean.host_identity_verified.count()\n",
    "host_identity_verified = weighted_gini_impurity"
   ]
  },
  {
   "cell_type": "code",
   "execution_count": 44,
   "metadata": {
    "id": "b8bbadfd"
   },
   "outputs": [],
   "source": [
    "# instant_bookable\n",
    "\n",
    "df_t = df_clean[df_clean.instant_bookable == \"t\"].review_scores_rating\n",
    "p_t_t = df_t[df_t > df_clean[\"review_scores_rating\"].mean()].count()/df_t.count()\n",
    "p_t_f = 1-p_t_t\n",
    "gini_impurity_t = 1-((p_t_t**2)+(p_t_f**2))\n",
    "    \n",
    "df_f = df_clean[df_clean.instant_bookable == \"f\"].review_scores_rating\n",
    "p_f_t = df_f[df_f > df_clean[\"review_scores_rating\"].mean()].count()/df_f.count()\n",
    "p_f_f = 1-p_f_t\n",
    "gini_impurity_f = 1-((p_f_t**2)+(p_f_f**2))\n",
    "    \n",
    "weighted_gini_impurity = gini_impurity_t * df_t.count()/df_clean.instant_bookable.count() + gini_impurity_f * df_f.count()/df_clean.instant_bookable.count()\n",
    "instant_bookable = weighted_gini_impurity"
   ]
  },
  {
   "cell_type": "code",
   "execution_count": 45,
   "metadata": {
    "id": "4ca353ea"
   },
   "outputs": [],
   "source": [
    "# host_response_rate   \n",
    "    \n",
    "df_t = df_clean[df_clean.host_response_rate == \"high\"].review_scores_rating\n",
    "p_t_t = df_t[df_t > df_clean[\"review_scores_rating\"].mean()].count()/df_t.count()\n",
    "p_t_f = 1-p_t_t\n",
    "gini_impurity_t = 1-((p_t_t**2)+(p_t_f**2))\n",
    "    \n",
    "df_f = df_clean[df_clean.host_response_rate == \"high\"].review_scores_rating\n",
    "p_f_t = df_f[df_f > df_clean[\"review_scores_rating\"].mean()].count()/df_f.count()\n",
    "p_f_f = 1-p_f_t\n",
    "gini_impurity_f = 1-((p_f_t**2)+(p_f_f**2))\n",
    "    \n",
    "weighted_gini_impurity = gini_impurity_t * df_t.count()/df_clean.host_response_rate.count() + gini_impurity_f * df_f.count()/df_clean.host_response_rate.count()\n",
    "host_response_rate = weighted_gini_impurity"
   ]
  },
  {
   "cell_type": "code",
   "execution_count": 46,
   "metadata": {
    "id": "8b531dc1"
   },
   "outputs": [],
   "source": [
    "# host_acceptance_rate\n",
    "    \n",
    "df_t = df_clean[df_clean.host_acceptance_rate == \"high\"].review_scores_rating\n",
    "p_t_t = df_t[df_t > df_clean[\"review_scores_rating\"].mean()].count()/df_t.count()\n",
    "p_t_f = 1-p_t_t\n",
    "gini_impurity_t = 1-((p_t_t**2)+(p_t_f**2))\n",
    "    \n",
    "df_f = df_clean[df_clean.host_acceptance_rate == \"high\"].review_scores_rating\n",
    "p_f_t = df_f[df_f > df_clean[\"review_scores_rating\"].mean()].count()/df_f.count()\n",
    "p_f_f = 1-p_f_t\n",
    "gini_impurity_f = 1-((p_f_t**2)+(p_f_f**2))\n",
    "    \n",
    "weighted_gini_impurity = gini_impurity_t * df_t.count()/df_clean.host_acceptance_rate.count() + gini_impurity_f * df_f.count()/df_clean.host_acceptance_rate.count()\n",
    "host_acceptance_rate = weighted_gini_impurity    "
   ]
  },
  {
   "cell_type": "code",
   "execution_count": 47,
   "metadata": {
    "id": "70d61f81"
   },
   "outputs": [],
   "source": [
    "# review_scores_accuracy\n",
    "    \n",
    "df_t = df_clean[df_clean.review_scores_accuracy == \"high\"].review_scores_rating\n",
    "p_t_t = df_t[df_t >df_clean[\"review_scores_rating\"].mean()].count()/df_t.count()\n",
    "p_t_f = 1-p_t_t\n",
    "gini_impurity_t = 1-((p_t_t**2)+(p_t_f**2))\n",
    "    \n",
    "df_f = df_clean[df_clean.review_scores_accuracy == \"high\"].review_scores_rating\n",
    "p_f_t = df_f[df_f > df_clean[\"review_scores_rating\"].mean()].count()/df_f.count()\n",
    "p_f_f = 1-p_f_t\n",
    "gini_impurity_f = 1-((p_f_t**2)+(p_f_f**2))\n",
    "    \n",
    "weighted_gini_impurity = gini_impurity_t * df_t.count()/df_clean.review_scores_accuracy.count() + gini_impurity_f * df_f.count()/df_clean.review_scores_accuracy.count()\n",
    "review_scores_accuracy = weighted_gini_impurity    "
   ]
  },
  {
   "cell_type": "code",
   "execution_count": 48,
   "metadata": {
    "id": "a3eb0356"
   },
   "outputs": [],
   "source": [
    "# review_scores_cleanliness    \n",
    "    \n",
    "df_t = df_clean[df_clean.review_scores_cleanliness == \"high\"].review_scores_rating\n",
    "p_t_t = df_t[df_t > df_clean[\"review_scores_rating\"].mean()].count()/df_t.count()\n",
    "p_t_f = 1-p_t_t\n",
    "gini_impurity_t = 1-((p_t_t**2)+(p_t_f**2))\n",
    "    \n",
    "df_f = df_clean[df_clean.review_scores_cleanliness == \"high\"].review_scores_rating\n",
    "p_f_t = df_f[df_f > df_clean[\"review_scores_rating\"].mean()].count()/df_f.count()\n",
    "p_f_f = 1-p_f_t\n",
    "gini_impurity_f = 1-((p_f_t**2)+(p_f_f**2))\n",
    "    \n",
    "weighted_gini_impurity = gini_impurity_t * df_t.count()/df_clean.review_scores_cleanliness.count() + gini_impurity_f * df_f.count()/df_clean.review_scores_cleanliness.count()\n",
    "review_scores_cleanliness = weighted_gini_impurity    "
   ]
  },
  {
   "cell_type": "code",
   "execution_count": 49,
   "metadata": {
    "id": "e0fc5875"
   },
   "outputs": [],
   "source": [
    "# review_scores_checkin\n",
    "\n",
    "df_t = df_clean[df_clean.review_scores_checkin == \"high\"].review_scores_rating\n",
    "p_t_t = df_t[df_t >df_clean[\"review_scores_rating\"].mean()].count()/df_t.count()\n",
    "p_t_f = 1-p_t_t\n",
    "gini_impurity_t = 1-((p_t_t**2)+(p_t_f**2))\n",
    "    \n",
    "df_f = df_clean[df_clean.review_scores_checkin == \"high\"].review_scores_rating\n",
    "p_f_t = df_f[df_f > df_clean[\"review_scores_rating\"].mean()].count()/df_f.count()\n",
    "p_f_f = 1-p_f_t\n",
    "gini_impurity_f = 1-((p_f_t**2)+(p_f_f**2))\n",
    "    \n",
    "weighted_gini_impurity = gini_impurity_t * df_t.count()/df_clean.review_scores_checkin.count() + gini_impurity_f * df_f.count()/df_clean.review_scores_checkin.count()\n",
    "review_scores_checkin = weighted_gini_impurity    "
   ]
  },
  {
   "cell_type": "code",
   "execution_count": 50,
   "metadata": {
    "id": "34fead72",
    "scrolled": true
   },
   "outputs": [],
   "source": [
    "# review_scores_communication\n",
    "    \n",
    "df_t = df_clean[df_clean.review_scores_communication == \"high\"].review_scores_rating\n",
    "p_t_t = df_t[df_t > df_clean[\"review_scores_rating\"].mean()].count()/df_t.count()\n",
    "p_t_f = 1-p_t_t\n",
    "gini_impurity_t = 1-((p_t_t**2)+(p_t_f**2))\n",
    "    \n",
    "df_f = df_clean[df_clean.review_scores_communication == \"high\"].review_scores_rating\n",
    "p_f_t = df_f[df_f > df_clean[\"review_scores_rating\"].mean()].count()/df_f.count()\n",
    "p_f_f = 1-p_f_t\n",
    "gini_impurity_f = 1-((p_f_t**2)+(p_f_f**2))\n",
    "    \n",
    "weighted_gini_impurity = gini_impurity_t * df_t.count()/df_clean.review_scores_communication.count() + gini_impurity_f * df_f.count()/df_clean.review_scores_communication.count()\n",
    "review_scores_communication = weighted_gini_impurity    "
   ]
  },
  {
   "cell_type": "code",
   "execution_count": 51,
   "metadata": {
    "id": "d9147400"
   },
   "outputs": [],
   "source": [
    "# calculated_host_listings_count\n",
    "    \n",
    "df_t = df_clean[df_clean.calculated_host_listings_count == \"one\"].review_scores_rating\n",
    "p_t_t = df_t[df_t > df_clean[\"review_scores_rating\"].mean()].count()/df_t.count()\n",
    "p_t_f = 1-p_t_t\n",
    "gini_impurity_t = 1-((p_t_t**2)+(p_t_f**2))\n",
    "    \n",
    "df_f = df_clean[df_clean.calculated_host_listings_count == \"one\"].review_scores_rating\n",
    "p_f_t = df_f[df_f > df_clean[\"review_scores_rating\"].mean()].count()/df_f.count()\n",
    "p_f_f = 1-p_f_t\n",
    "gini_impurity_f = 1-((p_f_t**2)+(p_f_f**2))\n",
    "    \n",
    "weighted_gini_impurity = gini_impurity_t * df_t.count()/df_clean.calculated_host_listings_count.count() + gini_impurity_f * df_f.count()/df_clean.calculated_host_listings_count.count()\n",
    "calculated_host_listings_count = weighted_gini_impurity    "
   ]
  },
  {
   "cell_type": "code",
   "execution_count": 52,
   "metadata": {
    "id": "aaa0cf6d",
    "outputId": "2028cf36-09fe-463e-e0fe-fcc1245f0627"
   },
   "outputs": [
    {
     "data": {
      "text/html": [
       "<div>\n",
       "<style scoped>\n",
       "    .dataframe tbody tr th:only-of-type {\n",
       "        vertical-align: middle;\n",
       "    }\n",
       "\n",
       "    .dataframe tbody tr th {\n",
       "        vertical-align: top;\n",
       "    }\n",
       "\n",
       "    .dataframe thead th {\n",
       "        text-align: right;\n",
       "    }\n",
       "</style>\n",
       "<table border=\"1\" class=\"dataframe\">\n",
       "  <thead>\n",
       "    <tr style=\"text-align: right;\">\n",
       "      <th></th>\n",
       "      <th>Variable</th>\n",
       "      <th>gini_impurity</th>\n",
       "    </tr>\n",
       "  </thead>\n",
       "  <tbody>\n",
       "    <tr>\n",
       "      <th>8</th>\n",
       "      <td>review_scores_cleanliness</td>\n",
       "      <td>0.309266</td>\n",
       "    </tr>\n",
       "    <tr>\n",
       "      <th>4</th>\n",
       "      <td>calculated_host_listings_count</td>\n",
       "      <td>0.311004</td>\n",
       "    </tr>\n",
       "    <tr>\n",
       "      <th>7</th>\n",
       "      <td>review_scores_accuracy</td>\n",
       "      <td>0.332720</td>\n",
       "    </tr>\n",
       "    <tr>\n",
       "      <th>3</th>\n",
       "      <td>host_is_superhost</td>\n",
       "      <td>0.395712</td>\n",
       "    </tr>\n",
       "    <tr>\n",
       "      <th>10</th>\n",
       "      <td>review_scores_communication</td>\n",
       "      <td>0.430680</td>\n",
       "    </tr>\n",
       "    <tr>\n",
       "      <th>11</th>\n",
       "      <td>instant_bookable</td>\n",
       "      <td>0.431120</td>\n",
       "    </tr>\n",
       "    <tr>\n",
       "      <th>0</th>\n",
       "      <td>host_about</td>\n",
       "      <td>0.434516</td>\n",
       "    </tr>\n",
       "    <tr>\n",
       "      <th>6</th>\n",
       "      <td>host_identity_verified</td>\n",
       "      <td>0.435991</td>\n",
       "    </tr>\n",
       "    <tr>\n",
       "      <th>5</th>\n",
       "      <td>host_has_profile_pic</td>\n",
       "      <td>0.436009</td>\n",
       "    </tr>\n",
       "    <tr>\n",
       "      <th>9</th>\n",
       "      <td>review_scores_checkin</td>\n",
       "      <td>0.437228</td>\n",
       "    </tr>\n",
       "    <tr>\n",
       "      <th>2</th>\n",
       "      <td>host_acceptance_rate</td>\n",
       "      <td>0.584281</td>\n",
       "    </tr>\n",
       "    <tr>\n",
       "      <th>1</th>\n",
       "      <td>host_response_rate</td>\n",
       "      <td>0.628837</td>\n",
       "    </tr>\n",
       "  </tbody>\n",
       "</table>\n",
       "</div>"
      ],
      "text/plain": [
       "                          Variable  gini_impurity\n",
       "8        review_scores_cleanliness       0.309266\n",
       "4   calculated_host_listings_count       0.311004\n",
       "7           review_scores_accuracy       0.332720\n",
       "3                host_is_superhost       0.395712\n",
       "10     review_scores_communication       0.430680\n",
       "11                instant_bookable       0.431120\n",
       "0                       host_about       0.434516\n",
       "6           host_identity_verified       0.435991\n",
       "5             host_has_profile_pic       0.436009\n",
       "9            review_scores_checkin       0.437228\n",
       "2             host_acceptance_rate       0.584281\n",
       "1               host_response_rate       0.628837"
      ]
     },
     "execution_count": 52,
     "metadata": {},
     "output_type": "execute_result"
    }
   ],
   "source": [
    "# result\n",
    "\n",
    "gini_impurity = {'Variable' : ['host_about',\n",
    "'host_response_rate',\n",
    "'host_acceptance_rate',\n",
    "'host_is_superhost',\n",
    "'calculated_host_listings_count',\n",
    "'host_has_profile_pic',\n",
    "'host_identity_verified',\n",
    "'review_scores_accuracy', \n",
    "'review_scores_cleanliness',\n",
    "'review_scores_checkin',\n",
    "'review_scores_communication',\n",
    "'instant_bookable'],\n",
    "'gini_impurity' : [host_about,\n",
    "host_response_rate,\n",
    "host_acceptance_rate,\n",
    "host_is_superhost,\n",
    "calculated_host_listings_count,\n",
    "host_has_profile_pic,\n",
    "host_identity_verified,\n",
    "review_scores_accuracy,\n",
    "review_scores_cleanliness,\n",
    "review_scores_checkin,\n",
    "review_scores_communication,\n",
    "instant_bookable]}\n",
    "gini_impurity = pd.DataFrame(gini_impurity)\n",
    "gini_impurity.sort_values(by=['gini_impurity'])"
   ]
  },
  {
   "cell_type": "markdown",
   "metadata": {
    "id": "4575121a"
   },
   "source": [
    "host_about : t/f\n",
    "host_response_rate : high \n",
    "host_acceptance_rate : high\n",
    "host_is_superhost : t/f\n",
    "calculated_host_listings_count : one\n",
    "host_has_profile_pic : t/f\n",
    "host_identity_verified : t/f\n",
    "review_scores_accuracy : high\n",
    "review_scores_cleanliness\n",
    "review_scores_checkin \n",
    "review_scores_communication \n",
    "instant_bookable : t/ f"
   ]
  },
  {
   "cell_type": "code",
   "execution_count": null,
   "metadata": {
    "id": "7b80769a"
   },
   "outputs": [],
   "source": []
  },
  {
   "cell_type": "code",
   "execution_count": null,
   "metadata": {
    "id": "4a20db00"
   },
   "outputs": [],
   "source": []
  }
 ],
 "metadata": {
  "colab": {
   "name": "ML_Final.ipynb",
   "provenance": []
  },
  "kernelspec": {
   "display_name": "Python 3",
   "language": "python",
   "name": "python3"
  },
  "language_info": {
   "codemirror_mode": {
    "name": "ipython",
    "version": 3
   },
   "file_extension": ".py",
   "mimetype": "text/x-python",
   "name": "python",
   "nbconvert_exporter": "python",
   "pygments_lexer": "ipython3",
   "version": "3.8.5"
  }
 },
 "nbformat": 4,
 "nbformat_minor": 5
}
